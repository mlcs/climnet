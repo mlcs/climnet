{
 "cells": [
  {
   "cell_type": "code",
   "execution_count": 14,
   "metadata": {},
   "outputs": [
    {
     "data": {
      "text/html": [
       "\n",
       "\t\t\t<script type=\"text/javascript\">\n",
       "\t\t\t<!--\n",
       "\t\t\t\t\n",
       "\t\t\t{\n",
       "\t\t\t\tvar element = document.getElementById('NetworKit_script');\n",
       "\t\t\t\tif (element) {\n",
       "\t\t\t\t\telement.parentNode.removeChild(element);\n",
       "\t\t\t\t}\n",
       "\t\t\t\telement = document.createElement('script');\n",
       "\t\t\t\telement.type = 'text/javascript';\n",
       "\t\t\t\telement.innerHTML = 'function NetworKit_pageEmbed(id) { var i, j; var elements; elements = document.getElementById(id).getElementsByClassName(\"Plot\"); for (i=0; i<elements.length; i++) { elements[i].id = id + \"_Plot_\" + i; var data = elements[i].getAttribute(\"data-image\").split(\"|\"); elements[i].removeAttribute(\"data-image\"); var content = \"<div class=\\\\\"Image\\\\\" id=\\\\\"\" + elements[i].id + \"_Image\\\\\" />\"; elements[i].innerHTML = content; elements[i].setAttribute(\"data-image-index\", 0); elements[i].setAttribute(\"data-image-length\", data.length); for (j=0; j<data.length; j++) { elements[i].setAttribute(\"data-image-\" + j, data[j]); } NetworKit_plotUpdate(elements[i]); elements[i].onclick = function (e) { NetworKit_overlayShow((e.target) ? e.target : e.srcElement); } } elements = document.getElementById(id).getElementsByClassName(\"HeatCell\"); for (i=0; i<elements.length; i++) { var data = parseFloat(elements[i].getAttribute(\"data-heat\")); var color = \"#00FF00\"; if (data <= 1 && data > 0) { color = \"hsla(0, 100%, 75%, \" + (data) + \")\"; } else if (data <= 0 && data >= -1) { color = \"hsla(240, 100%, 75%, \" + (-data) + \")\"; } elements[i].style.backgroundColor = color; } elements = document.getElementById(id).getElementsByClassName(\"Details\"); for (i=0; i<elements.length; i++) { elements[i].setAttribute(\"data-title\", \"-\"); NetworKit_toggleDetails(elements[i]); elements[i].onclick = function (e) { NetworKit_toggleDetails((e.target) ? e.target : e.srcElement); } } elements = document.getElementById(id).getElementsByClassName(\"MathValue\"); for (i=elements.length-1; i>=0; i--) { value = elements[i].innerHTML.trim(); if (value === \"nan\") { elements[i].parentNode.innerHTML = \"\" } } elements = document.getElementById(id).getElementsByClassName(\"SubCategory\"); for (i=elements.length-1; i>=0; i--) { value = elements[i].innerHTML.trim(); if (value === \"\") { elements[i].parentNode.removeChild(elements[i]) } } elements = document.getElementById(id).getElementsByClassName(\"Category\"); for (i=elements.length-1; i>=0; i--) { value = elements[i].innerHTML.trim(); if (value === \"\") { elements[i].parentNode.removeChild(elements[i]) } } var isFirefox = false; try { isFirefox = typeof InstallTrigger !== \"undefined\"; } catch (e) {} if (!isFirefox) { alert(\"Currently the function\\'s output is only fully supported by Firefox.\"); } } function NetworKit_plotUpdate(source) { var index = source.getAttribute(\"data-image-index\"); var data = source.getAttribute(\"data-image-\" + index); var image = document.getElementById(source.id + \"_Image\"); image.style.backgroundImage = \"url(\" + data + \")\"; } function NetworKit_showElement(id, show) { var element = document.getElementById(id); element.style.display = (show) ? \"block\" : \"none\"; } function NetworKit_overlayShow(source) { NetworKit_overlayUpdate(source); NetworKit_showElement(\"NetworKit_Overlay\", true); } function NetworKit_overlayUpdate(source) { document.getElementById(\"NetworKit_Overlay_Title\").innerHTML = source.title; var index = source.getAttribute(\"data-image-index\"); var data = source.getAttribute(\"data-image-\" + index); var image = document.getElementById(\"NetworKit_Overlay_Image\"); image.setAttribute(\"data-id\", source.id); image.style.backgroundImage = \"url(\" + data + \")\"; var link = document.getElementById(\"NetworKit_Overlay_Toolbar_Bottom_Save\"); link.href = data; link.download = source.title + \".svg\"; } function NetworKit_overlayImageShift(delta) { var image = document.getElementById(\"NetworKit_Overlay_Image\"); var source = document.getElementById(image.getAttribute(\"data-id\")); var index = parseInt(source.getAttribute(\"data-image-index\")); var length = parseInt(source.getAttribute(\"data-image-length\")); var index = (index+delta) % length; if (index < 0) { index = length + index; } source.setAttribute(\"data-image-index\", index); NetworKit_overlayUpdate(source); } function NetworKit_toggleDetails(source) { var childs = source.children; var show = false; if (source.getAttribute(\"data-title\") == \"-\") { source.setAttribute(\"data-title\", \"+\"); show = false; } else { source.setAttribute(\"data-title\", \"-\"); show = true; } for (i=0; i<childs.length; i++) { if (show) { childs[i].style.display = \"block\"; } else { childs[i].style.display = \"none\"; } } }';\n",
       "\t\t\t\telement.setAttribute('id', 'NetworKit_script');\n",
       "\t\t\t\tdocument.head.appendChild(element);\n",
       "\t\t\t}\n",
       "\t\t\n",
       "\t\t\t\t\n",
       "\t\t\t{\n",
       "\t\t\t\tvar element = document.getElementById('NetworKit_style');\n",
       "\t\t\t\tif (element) {\n",
       "\t\t\t\t\telement.parentNode.removeChild(element);\n",
       "\t\t\t\t}\n",
       "\t\t\t\telement = document.createElement('style');\n",
       "\t\t\t\telement.type = 'text/css';\n",
       "\t\t\t\telement.innerHTML = '.NetworKit_Page { font-family: Arial, Helvetica, sans-serif; font-size: 14px; } .NetworKit_Page .Value:before { font-family: Arial, Helvetica, sans-serif; font-size: 1.05em; content: attr(data-title) \":\"; margin-left: -2.5em; padding-right: 0.5em; } .NetworKit_Page .Details .Value:before { display: block; } .NetworKit_Page .Value { font-family: monospace; white-space: pre; padding-left: 2.5em; white-space: -moz-pre-wrap !important; white-space: -pre-wrap; white-space: -o-pre-wrap; white-space: pre-wrap; word-wrap: break-word; tab-size: 4; -moz-tab-size: 4; } .NetworKit_Page .Category { clear: both; padding-left: 1em; margin-bottom: 1.5em; } .NetworKit_Page .Category:before { content: attr(data-title); font-size: 1.75em; display: block; margin-left: -0.8em; margin-bottom: 0.5em; } .NetworKit_Page .SubCategory { margin-bottom: 1.5em; padding-left: 1em; } .NetworKit_Page .SubCategory:before { font-size: 1.6em; display: block; margin-left: -0.8em; margin-bottom: 0.5em; } .NetworKit_Page .SubCategory[data-title]:before { content: attr(data-title); } .NetworKit_Page .Block { display: block; } .NetworKit_Page .Block:after { content: \".\"; visibility: hidden; display: block; height: 0; clear: both; } .NetworKit_Page .Block .Thumbnail_Overview, .NetworKit_Page .Block .Thumbnail_ScatterPlot { width: 260px; float: left; } .NetworKit_Page .Block .Thumbnail_Overview img, .NetworKit_Page .Block .Thumbnail_ScatterPlot img { width: 260px; } .NetworKit_Page .Block .Thumbnail_Overview:before, .NetworKit_Page .Block .Thumbnail_ScatterPlot:before { display: block; text-align: center; font-weight: bold; } .NetworKit_Page .Block .Thumbnail_Overview:before { content: attr(data-title); } .NetworKit_Page .HeatCell { font-family: \"Courier New\", Courier, monospace; cursor: pointer; } .NetworKit_Page .HeatCell, .NetworKit_Page .HeatCellName { display: inline; padding: 0.1em; margin-right: 2px; background-color: #FFFFFF } .NetworKit_Page .HeatCellName { margin-left: 0.25em; } .NetworKit_Page .HeatCell:before { content: attr(data-heat); display: inline-block; color: #000000; width: 4em; text-align: center; } .NetworKit_Page .Measure { clear: both; } .NetworKit_Page .Measure .Details { cursor: pointer; } .NetworKit_Page .Measure .Details:before { content: \"[\" attr(data-title) \"]\"; display: block; } .NetworKit_Page .Measure .Details .Value { border-left: 1px dotted black; margin-left: 0.4em; padding-left: 3.5em; pointer-events: none; } .NetworKit_Page .Measure .Details .Spacer:before { content: \".\"; opacity: 0.0; pointer-events: none; } .NetworKit_Page .Measure .Plot { width: 440px; height: 440px; cursor: pointer; float: left; margin-left: -0.9em; margin-right: 20px; } .NetworKit_Page .Measure .Plot .Image { background-repeat: no-repeat; background-position: center center; background-size: contain; height: 100%; pointer-events: none; } .NetworKit_Page .Measure .Stat { width: 500px; float: left; } .NetworKit_Page .Measure .Stat .Group { padding-left: 1.25em; margin-bottom: 0.75em; } .NetworKit_Page .Measure .Stat .Group .Title { font-size: 1.1em; display: block; margin-bottom: 0.3em; margin-left: -0.75em; border-right-style: dotted; border-right-width: 1px; border-bottom-style: dotted; border-bottom-width: 1px; background-color: #D0D0D0; padding-left: 0.2em; } .NetworKit_Page .Measure .Stat .Group .List { -webkit-column-count: 3; -moz-column-count: 3; column-count: 3; } .NetworKit_Page .Measure .Stat .Group .List .Entry { position: relative; line-height: 1.75em; } .NetworKit_Page .Measure .Stat .Group .List .Entry[data-tooltip]:before { position: absolute; left: 0; top: -40px; background-color: #808080; color: #ffffff; height: 30px; line-height: 30px; border-radius: 5px; padding: 0 15px; content: attr(data-tooltip); white-space: nowrap; display: none; } .NetworKit_Page .Measure .Stat .Group .List .Entry[data-tooltip]:after { position: absolute; left: 15px; top: -10px; border-top: 7px solid #808080; border-left: 7px solid transparent; border-right: 7px solid transparent; content: \"\"; display: none; } .NetworKit_Page .Measure .Stat .Group .List .Entry[data-tooltip]:hover:after, .NetworKit_Page .Measure .Stat .Group .List .Entry[data-tooltip]:hover:before { display: block; } .NetworKit_Page .Measure .Stat .Group .List .Entry .MathValue { font-family: \"Courier New\", Courier, monospace; } .NetworKit_Page .Measure:after { content: \".\"; visibility: hidden; display: block; height: 0; clear: both; } .NetworKit_Page .PartitionPie { clear: both; } .NetworKit_Page .PartitionPie img { width: 600px; } #NetworKit_Overlay { left: 0px; top: 0px; display: none; position: absolute; width: 100%; height: 100%; background-color: rgba(0,0,0,0.6); z-index: 1000; } #NetworKit_Overlay_Title { position: absolute; color: white; transform: rotate(-90deg); width: 32em; height: 32em; padding-right: 0.5em; padding-top: 0.5em; text-align: right; font-size: 40px; } #NetworKit_Overlay .button { background: white; cursor: pointer; } #NetworKit_Overlay .button:before { size: 13px; display: inline-block; text-align: center; margin-top: 0.5em; margin-bottom: 0.5em; width: 1.5em; height: 1.5em; } #NetworKit_Overlay .icon-close:before { content: \"X\"; } #NetworKit_Overlay .icon-previous:before { content: \"P\"; } #NetworKit_Overlay .icon-next:before { content: \"N\"; } #NetworKit_Overlay .icon-save:before { content: \"S\"; } #NetworKit_Overlay_Toolbar_Top, #NetworKit_Overlay_Toolbar_Bottom { position: absolute; width: 40px; right: 13px; text-align: right; z-index: 1100; } #NetworKit_Overlay_Toolbar_Top { top: 0.5em; } #NetworKit_Overlay_Toolbar_Bottom { Bottom: 0.5em; } #NetworKit_Overlay_ImageContainer { position: absolute; top: 5%; left: 5%; height: 90%; width: 90%; background-repeat: no-repeat; background-position: center center; background-size: contain; } #NetworKit_Overlay_Image { height: 100%; width: 100%; background-repeat: no-repeat; background-position: center center; background-size: contain; }';\n",
       "\t\t\t\telement.setAttribute('id', 'NetworKit_style');\n",
       "\t\t\t\tdocument.head.appendChild(element);\n",
       "\t\t\t}\n",
       "\t\t\n",
       "\t\t\t\t\n",
       "\t\t\t{\n",
       "\t\t\t\tvar element = document.getElementById('NetworKit_Overlay');\n",
       "\t\t\t\tif (element) {\n",
       "\t\t\t\t\telement.parentNode.removeChild(element);\n",
       "\t\t\t\t}\n",
       "\t\t\t\telement = document.createElement('div');\n",
       "\t\t\t\telement.innerHTML = '<div id=\"NetworKit_Overlay_Toolbar_Top\"><div class=\"button icon-close\" id=\"NetworKit_Overlay_Close\" /></div><div id=\"NetworKit_Overlay_Title\" /> <div id=\"NetworKit_Overlay_ImageContainer\"> <div id=\"NetworKit_Overlay_Image\" /> </div> <div id=\"NetworKit_Overlay_Toolbar_Bottom\"> <div class=\"button icon-previous\" onclick=\"NetworKit_overlayImageShift(-1)\" /> <div class=\"button icon-next\" onclick=\"NetworKit_overlayImageShift(1)\" /> <a id=\"NetworKit_Overlay_Toolbar_Bottom_Save\"><div class=\"button icon-save\" /></a> </div>';\n",
       "\t\t\t\telement.setAttribute('id', 'NetworKit_Overlay');\n",
       "\t\t\t\tdocument.body.appendChild(element);\n",
       "\t\t\t\tdocument.getElementById('NetworKit_Overlay_Close').onclick = function (e) {\n",
       "\t\t\t\t\tdocument.getElementById('NetworKit_Overlay').style.display = 'none';\n",
       "\t\t\t\t}\n",
       "\t\t\t}\n",
       "\t\t\n",
       "\t\t\t-->\n",
       "\t\t\t</script>\n",
       "\t\t"
      ]
     },
     "metadata": {},
     "output_type": "display_data"
    }
   ],
   "source": [
    "import geoutils.utils.general_utils as gut\n",
    "import geoutils.plotting.plots as cplt\n",
    "import geoutils.utils.time_utils as tu\n",
    "import geoutils.tsa.event_synchronization as es\n",
    "import geoutils.geodata.base_dataset as bds\n",
    "import climnet.datasets.evs_dataset as cds\n",
    "import numpy as np\n",
    "import climnet.network.clim_networkx as nx\n",
    "\n",
    "from importlib import reload\n"
   ]
  },
  {
   "cell_type": "code",
   "execution_count": 7,
   "metadata": {},
   "outputs": [
    {
     "name": "stdout",
     "output_type": "stream",
     "text": [
      "Loading Data...\n",
      "Load Dataset: /home/strnad/data/climnet/outputs//summer_monsoon/mswep_fekete_2.5_0.9_evs_ds.nc\n"
     ]
    },
    {
     "name": "stdout",
     "output_type": "stream",
     "text": [
      "Variables in dataset: ['pr', 'evs']\n",
      "Set variable name to evs!\n",
      "WARNING! No mask initialized!\n",
      "Evs datat is stored in dataset.\n",
      "Init spatial evs-mask for EVS data of shape: (15339, 5981)\n",
      "... Finished Initialization EVS-spatial mask\n",
      "Init the point-idx dictionaries\n"
     ]
    }
   ],
   "source": [
    "vname = 'pr'\n",
    "name = 'mswep'\n",
    "start_month = 'Jun'\n",
    "end_month = 'Sep'\n",
    "grid_type = \"fekete\"\n",
    "grid_step = 2.5\n",
    "q_ee = 0.9\n",
    "\n",
    "output_dir = '/home/strnad/data/climnet/outputs/'\n",
    "plot_dir = '/home/strnad/data/climnet/plots/'\n",
    "data_dir = \"/home/strnad/data/climate_data/\"\n",
    "output_folder = 'summer_monsoon'\n",
    "\n",
    "name_prefix = f\"{name}_{grid_type}_{grid_step}_{q_ee}\"\n",
    "\n",
    "dataset_file = output_dir + \\\n",
    "    f\"/{output_folder}/{name_prefix}_evs_ds.nc\"\n",
    "\n",
    "reload(cds)\n",
    "ds = cds.EvsDataset(\n",
    "    load_nc=dataset_file,\n",
    "    rrevs=False,\n",
    ")"
   ]
  },
  {
   "cell_type": "markdown",
   "metadata": {},
   "source": [
    "## Null model of the network"
   ]
  },
  {
   "cell_type": "code",
   "execution_count": 10,
   "metadata": {},
   "outputs": [
    {
     "name": "stdout",
     "output_type": "stream",
     "text": [
      "Select data from Jun - Sep!\n"
     ]
    }
   ],
   "source": [
    "ds_jjas = tu.get_month_range_data(ds.ds, 'Jun', 'Sep')\n",
    "num_time_steps = len(ds_jjas.time)"
   ]
  },
  {
   "cell_type": "code",
   "execution_count": null,
   "metadata": {},
   "outputs": [],
   "source": [
    "taumax = 10\n",
    "n_pmts = 1000\n",
    "weighted = True\n",
    "min_evs = 3\n",
    "# Init q-null models values\n",
    "q_range = np.array([0.25, 0.5, 0.75, 0.95, 0.96, 0.97, 0.98, 0.99, 0.995, 0.999])\n",
    "\n",
    "max_num_events = int(np.ceil(num_time_steps*(1-q_ee)))\n",
    "null_model_folder = f'~/climnet/monsoon/climnet/network/es_files/null_model/'\n",
    "null_model_file = f'null_model_ts_{num_time_steps}_taumax_{taumax}_npmts_{n_pmts}_q_{q_ee}_directed.npy'\n",
    "nmfp = null_model_folder + null_model_file\n",
    "# %%\n",
    "reload(es)\n",
    "\n",
    "q_dict = es.null_model_distribution(length_time_series=num_time_steps,\n",
    "                                    max_num_events=max_num_events,\n",
    "                                    num_permutations=n_pmts,\n",
    "                                    taumax=taumax,\n",
    "                                    min_num_events=1,\n",
    "                                    q=q_range,\n",
    "                                    savepath=nmfp)\n",
    "\n",
    "E_matrix_folder = (\n",
    "    f\"{output_folder}/{name_prefix}_{q_ee}_{min_evs}/\"\n",
    ")\n",
    "null_model_file = f'null_model_ts_{num_time_steps}_taumax_{taumax}_npmts_{n_pmts}_q_{q_ee}_directed.npy'"
   ]
  },
  {
   "cell_type": "markdown",
   "metadata": {},
   "source": [
    "## Create the network"
   ]
  },
  {
   "cell_type": "code",
   "execution_count": 16,
   "metadata": {},
   "outputs": [
    {
     "name": "stdout",
     "output_type": "stream",
     "text": [
      "Use q = 0.95\n",
      "Create Network based on method es\n",
      "Load null model: /home/strnad/climnet/monsoon/climnet/network/es_files//null_model//null_model_ts_5124_taumax_10_npmts_1000_q_0.9_directed.npy\n",
      "Not running with SLURM job arrays, but with manual id:  0\n",
      "Computed Event Series Matrix\n",
      "Store E-matrix as file E_matrix_evs_q_0.9_min_num_events_3_taumax_10_jobid_0.npy!\n",
      "JobID 0: Start comparing all time series with taumax=10!\n",
      "Start computing event synchronization for event data from 0 to 5250!\n",
      "Use 1 CPUs in parallel!\n"
     ]
    },
    {
     "name": "stderr",
     "output_type": "stream",
     "text": [
      "  0%|          | 0/5249 [00:00<?, ?it/s]"
     ]
    },
    {
     "ename": "KeyboardInterrupt",
     "evalue": "",
     "output_type": "error",
     "traceback": [
      "\u001b[0;31m---------------------------------------------------------------------------\u001b[0m",
      "\u001b[0;31mKeyboardInterrupt\u001b[0m                         Traceback (most recent call last)",
      "\u001b[1;32m/home/strnad/climnet/monsoon/climnet/tutorials/create_network.ipynb Cell 7\u001b[0m in \u001b[0;36m<cell line: 13>\u001b[0;34m()\u001b[0m\n\u001b[1;32m      <a href='vscode-notebook-cell:/home/strnad/climnet/monsoon/climnet/tutorials/create_network.ipynb#X13sZmlsZQ%3D%3D?line=8'>9</a>\u001b[0m Net \u001b[39m=\u001b[39m nx\u001b[39m.\u001b[39mClim_NetworkX(dataset\u001b[39m=\u001b[39mds,\n\u001b[1;32m     <a href='vscode-notebook-cell:/home/strnad/climnet/monsoon/climnet/tutorials/create_network.ipynb#X13sZmlsZQ%3D%3D?line=9'>10</a>\u001b[0m                        taumax\u001b[39m=\u001b[39mtaumax,\n\u001b[1;32m     <a href='vscode-notebook-cell:/home/strnad/climnet/monsoon/climnet/tutorials/create_network.ipynb#X13sZmlsZQ%3D%3D?line=10'>11</a>\u001b[0m                        weighted\u001b[39m=\u001b[39mweighted,)\n\u001b[1;32m     <a href='vscode-notebook-cell:/home/strnad/climnet/monsoon/climnet/tutorials/create_network.ipynb#X13sZmlsZQ%3D%3D?line=11'>12</a>\u001b[0m gut\u001b[39m.\u001b[39mmyprint(\u001b[39mf\u001b[39m\u001b[39m\"\u001b[39m\u001b[39mUse q = \u001b[39m\u001b[39m{\u001b[39;00mq_sig\u001b[39m}\u001b[39;00m\u001b[39m\"\u001b[39m)\n\u001b[0;32m---> <a href='vscode-notebook-cell:/home/strnad/climnet/monsoon/climnet/tutorials/create_network.ipynb#X13sZmlsZQ%3D%3D?line=12'>13</a>\u001b[0m Net\u001b[39m.\u001b[39;49mcreate(\n\u001b[1;32m     <a href='vscode-notebook-cell:/home/strnad/climnet/monsoon/climnet/tutorials/create_network.ipynb#X13sZmlsZQ%3D%3D?line=13'>14</a>\u001b[0m     method\u001b[39m=\u001b[39;49m\u001b[39m'\u001b[39;49m\u001b[39mes\u001b[39;49m\u001b[39m'\u001b[39;49m,\n\u001b[1;32m     <a href='vscode-notebook-cell:/home/strnad/climnet/monsoon/climnet/tutorials/create_network.ipynb#X13sZmlsZQ%3D%3D?line=14'>15</a>\u001b[0m     null_model_file\u001b[39m=\u001b[39;49mnull_model_file,\n\u001b[1;32m     <a href='vscode-notebook-cell:/home/strnad/climnet/monsoon/climnet/tutorials/create_network.ipynb#X13sZmlsZQ%3D%3D?line=15'>16</a>\u001b[0m     E_matrix_folder\u001b[39m=\u001b[39;49mE_matrix_folder,\n\u001b[1;32m     <a href='vscode-notebook-cell:/home/strnad/climnet/monsoon/climnet/tutorials/create_network.ipynb#X13sZmlsZQ%3D%3D?line=16'>17</a>\u001b[0m     q_sig\u001b[39m=\u001b[39;49mq_sig,\n\u001b[1;32m     <a href='vscode-notebook-cell:/home/strnad/climnet/monsoon/climnet/tutorials/create_network.ipynb#X13sZmlsZQ%3D%3D?line=17'>18</a>\u001b[0m     num_cpus\u001b[39m=\u001b[39;49m\u001b[39m1\u001b[39;49m,\n\u001b[1;32m     <a href='vscode-notebook-cell:/home/strnad/climnet/monsoon/climnet/tutorials/create_network.ipynb#X13sZmlsZQ%3D%3D?line=18'>19</a>\u001b[0m )\n",
      "File \u001b[0;32m~/climnet/monsoon/climnet/network/clim_networkx.py:78\u001b[0m, in \u001b[0;36mClim_NetworkX.create\u001b[0;34m(self, method, network, weighted, **kwargs)\u001b[0m\n\u001b[1;32m     76\u001b[0m     \u001b[39melif\u001b[39;00m method \u001b[39m==\u001b[39m \u001b[39m'\u001b[39m\u001b[39mes\u001b[39m\u001b[39m'\u001b[39m:\n\u001b[1;32m     77\u001b[0m         reload(esnet)\n\u001b[0;32m---> 78\u001b[0m         \u001b[39mself\u001b[39m\u001b[39m.\u001b[39madjacency, \u001b[39mself\u001b[39m\u001b[39m.\u001b[39mcorr \u001b[39m=\u001b[39m esnet\u001b[39m.\u001b[39;49mcreate(\n\u001b[1;32m     79\u001b[0m             \u001b[39mself\u001b[39;49m\u001b[39m.\u001b[39;49mds, \u001b[39m*\u001b[39;49m\u001b[39m*\u001b[39;49mkwargs\n\u001b[1;32m     80\u001b[0m         )\n\u001b[1;32m     82\u001b[0m \u001b[39mif\u001b[39;00m weighted \u001b[39mis\u001b[39;00m \u001b[39mFalse\u001b[39;00m:\n\u001b[1;32m     83\u001b[0m     \u001b[39mself\u001b[39m\u001b[39m.\u001b[39mcorr \u001b[39m=\u001b[39m \u001b[39mNone\u001b[39;00m\n",
      "File \u001b[0;32m~/climnet/monsoon/climnet/network/es_network.py:62\u001b[0m, in \u001b[0;36mcreate\u001b[0;34m(ds, taumax, E_matrix_folder, null_model_file, q_med, lq, hq, q_sig, min_num_sync_events, weighted, num_cpus)\u001b[0m\n\u001b[1;32m     59\u001b[0m \u001b[39mprint\u001b[39m(\u001b[39mf\u001b[39m\u001b[39m\"\u001b[39m\u001b[39mLoad null model: \u001b[39m\u001b[39m{\u001b[39;00mnull_model_file\u001b[39m}\u001b[39;00m\u001b[39m\"\u001b[39m, flush\u001b[39m=\u001b[39m\u001b[39mTrue\u001b[39;00m)\n\u001b[1;32m     60\u001b[0m null_model \u001b[39m=\u001b[39m np\u001b[39m.\u001b[39mload(null_model_file, allow_pickle\u001b[39m=\u001b[39m\u001b[39mTrue\u001b[39;00m)\u001b[39m.\u001b[39mitem()\n\u001b[0;32m---> 62\u001b[0m event_synchronization_run(\n\u001b[1;32m     63\u001b[0m     ds\u001b[39m=\u001b[39;49mds,\n\u001b[1;32m     64\u001b[0m     E_matrix_folder\u001b[39m=\u001b[39;49mE_matrix_folder,\n\u001b[1;32m     65\u001b[0m     taumax\u001b[39m=\u001b[39;49mtaumax,\n\u001b[1;32m     66\u001b[0m     null_model\u001b[39m=\u001b[39;49mnull_model,\n\u001b[1;32m     67\u001b[0m     min_num_sync_events\u001b[39m=\u001b[39;49mmin_num_sync_events,\n\u001b[1;32m     68\u001b[0m     num_cpus\u001b[39m=\u001b[39;49mnum_cpus,\n\u001b[1;32m     69\u001b[0m )\n\u001b[1;32m     71\u001b[0m adjacency, corr \u001b[39m=\u001b[39m compute_es_adjacency(\n\u001b[1;32m     72\u001b[0m     E_matrix_folder\u001b[39m=\u001b[39mE_matrix_folder,\n\u001b[1;32m     73\u001b[0m     num_time_series\u001b[39m=\u001b[39mnum_time_series,\n\u001b[0;32m   (...)\u001b[0m\n\u001b[1;32m     79\u001b[0m     q_sig\u001b[39m=\u001b[39mq_sig,\n\u001b[1;32m     80\u001b[0m )\n\u001b[1;32m     82\u001b[0m nwf\u001b[39m.\u001b[39mget_sparsity(M\u001b[39m=\u001b[39madjacency)\n",
      "File \u001b[0;32m~/climnet/monsoon/climnet/network/es_network.py:129\u001b[0m, in \u001b[0;36mevent_synchronization_run\u001b[0;34m(ds, E_matrix_folder, taumax, min_num_sync_events, null_model, num_cpus)\u001b[0m\n\u001b[1;32m    126\u001b[0m \u001b[39mprint\u001b[39m(\n\u001b[1;32m    127\u001b[0m     \u001b[39mf\u001b[39m\u001b[39m\"\u001b[39m\u001b[39mJobID \u001b[39m\u001b[39m{\u001b[39;00mjob_id\u001b[39m}\u001b[39;00m\u001b[39m: Start comparing all time series with taumax=\u001b[39m\u001b[39m{\u001b[39;00mtaumax\u001b[39m}\u001b[39;00m\u001b[39m!\u001b[39m\u001b[39m\"\u001b[39m)\n\u001b[1;32m    128\u001b[0m \u001b[39mif\u001b[39;00m \u001b[39mnot\u001b[39;00m os\u001b[39m.\u001b[39mpath\u001b[39m.\u001b[39mexists(E_matrix_folder \u001b[39m+\u001b[39m E_matrix_filename):\n\u001b[0;32m--> 129\u001b[0m     es\u001b[39m.\u001b[39;49mparallel_event_synchronization(\n\u001b[1;32m    130\u001b[0m         event_series_matrix,\n\u001b[1;32m    131\u001b[0m         taumax\u001b[39m=\u001b[39;49mtaumax,\n\u001b[1;32m    132\u001b[0m         min_num_sync_events\u001b[39m=\u001b[39;49mmin_num_sync_events,\n\u001b[1;32m    133\u001b[0m         job_id\u001b[39m=\u001b[39;49mjob_id,\n\u001b[1;32m    134\u001b[0m         num_jobs\u001b[39m=\u001b[39;49mnum_jobs,\n\u001b[1;32m    135\u001b[0m         savepath\u001b[39m=\u001b[39;49mE_matrix_folder \u001b[39m+\u001b[39;49m E_matrix_filename,\n\u001b[1;32m    136\u001b[0m         q_dict\u001b[39m=\u001b[39;49mnull_model,\n\u001b[1;32m    137\u001b[0m         q_min\u001b[39m=\u001b[39;49m\u001b[39m0.5\u001b[39;49m,  \u001b[39m# This is not the sign threshold for later tests, it is only to store less data\u001b[39;49;00m\n\u001b[1;32m    138\u001b[0m         num_cpus\u001b[39m=\u001b[39;49mnum_cpus,\n\u001b[1;32m    139\u001b[0m     )\n\u001b[1;32m    140\u001b[0m \u001b[39melse\u001b[39;00m:\n\u001b[1;32m    141\u001b[0m     \u001b[39mprint\u001b[39m(\n\u001b[1;32m    142\u001b[0m         \u001b[39mf\u001b[39m\u001b[39m\"\u001b[39m\u001b[39mFile \u001b[39m\u001b[39m{\u001b[39;00mE_matrix_folder\u001b[39m+\u001b[39mE_matrix_filename\u001b[39m}\u001b[39;00m\u001b[39m does already exist!\u001b[39m\u001b[39m\"\u001b[39m)\n",
      "File \u001b[0;32m~/climnet/geoutils/geoutils/tsa/event_synchronization.py:176\u001b[0m, in \u001b[0;36mparallel_event_synchronization\u001b[0;34m(event_data, taumax, min_num_sync_events, job_id, num_jobs, savepath, q_dict, q_min, num_cpus)\u001b[0m\n\u001b[1;32m    173\u001b[0m backend \u001b[39m=\u001b[39m \u001b[39m'\u001b[39m\u001b[39mmultiprocessing\u001b[39m\u001b[39m'\u001b[39m\n\u001b[1;32m    174\u001b[0m \u001b[39m# backend='loky'\u001b[39;00m\n\u001b[1;32m    175\u001b[0m \u001b[39m# backend='threading'\u001b[39;00m\n\u001b[0;32m--> 176\u001b[0m parallelArray \u001b[39m=\u001b[39m (Parallel(n_jobs\u001b[39m=\u001b[39;49mnum_cpus_avail, backend\u001b[39m=\u001b[39;49mbackend)\n\u001b[1;32m    177\u001b[0m                  (delayed(event_synchronization_one_series)\n\u001b[1;32m    178\u001b[0m                   (extreme_event_index_matrix, idx_lst_e1,\n\u001b[1;32m    179\u001b[0m                    start_arr_idx \u001b[39m+\u001b[39;49m i, taumax, min_num_sync_events)\n\u001b[1;32m    180\u001b[0m                   \u001b[39mfor\u001b[39;49;00m i, idx_lst_e1 \u001b[39min\u001b[39;49;00m \u001b[39menumerate\u001b[39;49m(tqdm(extreme_event_index_matrix[start_arr_idx:end_arr_idx]))\n\u001b[1;32m    181\u001b[0m                   )\n\u001b[1;32m    182\u001b[0m                  )\n\u001b[1;32m    184\u001b[0m \u001b[39m# Store output of parallel processes in adjecency matrix\u001b[39;00m\n\u001b[1;32m    185\u001b[0m adj_matrix_edge_list \u001b[39m=\u001b[39m []\n",
      "File \u001b[0;32m~/anaconda3/envs/climnet/lib/python3.9/site-packages/joblib/parallel.py:1085\u001b[0m, in \u001b[0;36mParallel.__call__\u001b[0;34m(self, iterable)\u001b[0m\n\u001b[1;32m   1076\u001b[0m \u001b[39mtry\u001b[39;00m:\n\u001b[1;32m   1077\u001b[0m     \u001b[39m# Only set self._iterating to True if at least a batch\u001b[39;00m\n\u001b[1;32m   1078\u001b[0m     \u001b[39m# was dispatched. In particular this covers the edge\u001b[39;00m\n\u001b[0;32m   (...)\u001b[0m\n\u001b[1;32m   1082\u001b[0m     \u001b[39m# was very quick and its callback already dispatched all the\u001b[39;00m\n\u001b[1;32m   1083\u001b[0m     \u001b[39m# remaining jobs.\u001b[39;00m\n\u001b[1;32m   1084\u001b[0m     \u001b[39mself\u001b[39m\u001b[39m.\u001b[39m_iterating \u001b[39m=\u001b[39m \u001b[39mFalse\u001b[39;00m\n\u001b[0;32m-> 1085\u001b[0m     \u001b[39mif\u001b[39;00m \u001b[39mself\u001b[39;49m\u001b[39m.\u001b[39;49mdispatch_one_batch(iterator):\n\u001b[1;32m   1086\u001b[0m         \u001b[39mself\u001b[39m\u001b[39m.\u001b[39m_iterating \u001b[39m=\u001b[39m \u001b[39mself\u001b[39m\u001b[39m.\u001b[39m_original_iterator \u001b[39mis\u001b[39;00m \u001b[39mnot\u001b[39;00m \u001b[39mNone\u001b[39;00m\n\u001b[1;32m   1088\u001b[0m     \u001b[39mwhile\u001b[39;00m \u001b[39mself\u001b[39m\u001b[39m.\u001b[39mdispatch_one_batch(iterator):\n",
      "File \u001b[0;32m~/anaconda3/envs/climnet/lib/python3.9/site-packages/joblib/parallel.py:901\u001b[0m, in \u001b[0;36mParallel.dispatch_one_batch\u001b[0;34m(self, iterator)\u001b[0m\n\u001b[1;32m    899\u001b[0m     \u001b[39mreturn\u001b[39;00m \u001b[39mFalse\u001b[39;00m\n\u001b[1;32m    900\u001b[0m \u001b[39melse\u001b[39;00m:\n\u001b[0;32m--> 901\u001b[0m     \u001b[39mself\u001b[39;49m\u001b[39m.\u001b[39;49m_dispatch(tasks)\n\u001b[1;32m    902\u001b[0m     \u001b[39mreturn\u001b[39;00m \u001b[39mTrue\u001b[39;00m\n",
      "File \u001b[0;32m~/anaconda3/envs/climnet/lib/python3.9/site-packages/joblib/parallel.py:819\u001b[0m, in \u001b[0;36mParallel._dispatch\u001b[0;34m(self, batch)\u001b[0m\n\u001b[1;32m    817\u001b[0m \u001b[39mwith\u001b[39;00m \u001b[39mself\u001b[39m\u001b[39m.\u001b[39m_lock:\n\u001b[1;32m    818\u001b[0m     job_idx \u001b[39m=\u001b[39m \u001b[39mlen\u001b[39m(\u001b[39mself\u001b[39m\u001b[39m.\u001b[39m_jobs)\n\u001b[0;32m--> 819\u001b[0m     job \u001b[39m=\u001b[39m \u001b[39mself\u001b[39;49m\u001b[39m.\u001b[39;49m_backend\u001b[39m.\u001b[39;49mapply_async(batch, callback\u001b[39m=\u001b[39;49mcb)\n\u001b[1;32m    820\u001b[0m     \u001b[39m# A job can complete so quickly than its callback is\u001b[39;00m\n\u001b[1;32m    821\u001b[0m     \u001b[39m# called before we get here, causing self._jobs to\u001b[39;00m\n\u001b[1;32m    822\u001b[0m     \u001b[39m# grow. To ensure correct results ordering, .insert is\u001b[39;00m\n\u001b[1;32m    823\u001b[0m     \u001b[39m# used (rather than .append) in the following line\u001b[39;00m\n\u001b[1;32m    824\u001b[0m     \u001b[39mself\u001b[39m\u001b[39m.\u001b[39m_jobs\u001b[39m.\u001b[39minsert(job_idx, job)\n",
      "File \u001b[0;32m~/anaconda3/envs/climnet/lib/python3.9/site-packages/joblib/_parallel_backends.py:208\u001b[0m, in \u001b[0;36mSequentialBackend.apply_async\u001b[0;34m(self, func, callback)\u001b[0m\n\u001b[1;32m    206\u001b[0m \u001b[39mdef\u001b[39;00m \u001b[39mapply_async\u001b[39m(\u001b[39mself\u001b[39m, func, callback\u001b[39m=\u001b[39m\u001b[39mNone\u001b[39;00m):\n\u001b[1;32m    207\u001b[0m \u001b[39m    \u001b[39m\u001b[39m\"\"\"Schedule a func to be run\"\"\"\u001b[39;00m\n\u001b[0;32m--> 208\u001b[0m     result \u001b[39m=\u001b[39m ImmediateResult(func)\n\u001b[1;32m    209\u001b[0m     \u001b[39mif\u001b[39;00m callback:\n\u001b[1;32m    210\u001b[0m         callback(result)\n",
      "File \u001b[0;32m~/anaconda3/envs/climnet/lib/python3.9/site-packages/joblib/_parallel_backends.py:597\u001b[0m, in \u001b[0;36mImmediateResult.__init__\u001b[0;34m(self, batch)\u001b[0m\n\u001b[1;32m    594\u001b[0m \u001b[39mdef\u001b[39;00m \u001b[39m__init__\u001b[39m(\u001b[39mself\u001b[39m, batch):\n\u001b[1;32m    595\u001b[0m     \u001b[39m# Don't delay the application, to avoid keeping the input\u001b[39;00m\n\u001b[1;32m    596\u001b[0m     \u001b[39m# arguments in memory\u001b[39;00m\n\u001b[0;32m--> 597\u001b[0m     \u001b[39mself\u001b[39m\u001b[39m.\u001b[39mresults \u001b[39m=\u001b[39m batch()\n",
      "File \u001b[0;32m~/anaconda3/envs/climnet/lib/python3.9/site-packages/joblib/parallel.py:288\u001b[0m, in \u001b[0;36mBatchedCalls.__call__\u001b[0;34m(self)\u001b[0m\n\u001b[1;32m    284\u001b[0m \u001b[39mdef\u001b[39;00m \u001b[39m__call__\u001b[39m(\u001b[39mself\u001b[39m):\n\u001b[1;32m    285\u001b[0m     \u001b[39m# Set the default nested backend to self._backend but do not set the\u001b[39;00m\n\u001b[1;32m    286\u001b[0m     \u001b[39m# change the default number of processes to -1\u001b[39;00m\n\u001b[1;32m    287\u001b[0m     \u001b[39mwith\u001b[39;00m parallel_backend(\u001b[39mself\u001b[39m\u001b[39m.\u001b[39m_backend, n_jobs\u001b[39m=\u001b[39m\u001b[39mself\u001b[39m\u001b[39m.\u001b[39m_n_jobs):\n\u001b[0;32m--> 288\u001b[0m         \u001b[39mreturn\u001b[39;00m [func(\u001b[39m*\u001b[39margs, \u001b[39m*\u001b[39m\u001b[39m*\u001b[39mkwargs)\n\u001b[1;32m    289\u001b[0m                 \u001b[39mfor\u001b[39;00m func, args, kwargs \u001b[39min\u001b[39;00m \u001b[39mself\u001b[39m\u001b[39m.\u001b[39mitems]\n",
      "File \u001b[0;32m~/anaconda3/envs/climnet/lib/python3.9/site-packages/joblib/parallel.py:288\u001b[0m, in \u001b[0;36m<listcomp>\u001b[0;34m(.0)\u001b[0m\n\u001b[1;32m    284\u001b[0m \u001b[39mdef\u001b[39;00m \u001b[39m__call__\u001b[39m(\u001b[39mself\u001b[39m):\n\u001b[1;32m    285\u001b[0m     \u001b[39m# Set the default nested backend to self._backend but do not set the\u001b[39;00m\n\u001b[1;32m    286\u001b[0m     \u001b[39m# change the default number of processes to -1\u001b[39;00m\n\u001b[1;32m    287\u001b[0m     \u001b[39mwith\u001b[39;00m parallel_backend(\u001b[39mself\u001b[39m\u001b[39m.\u001b[39m_backend, n_jobs\u001b[39m=\u001b[39m\u001b[39mself\u001b[39m\u001b[39m.\u001b[39m_n_jobs):\n\u001b[0;32m--> 288\u001b[0m         \u001b[39mreturn\u001b[39;00m [func(\u001b[39m*\u001b[39;49margs, \u001b[39m*\u001b[39;49m\u001b[39m*\u001b[39;49mkwargs)\n\u001b[1;32m    289\u001b[0m                 \u001b[39mfor\u001b[39;00m func, args, kwargs \u001b[39min\u001b[39;00m \u001b[39mself\u001b[39m\u001b[39m.\u001b[39mitems]\n",
      "File \u001b[0;32m~/climnet/geoutils/geoutils/tsa/event_synchronization.py:91\u001b[0m, in \u001b[0;36mevent_synchronization_one_series\u001b[0;34m(extreme_event_index_matrix, ind_list_e1, i, taumax, min_num_sync_events)\u001b[0m\n\u001b[1;32m     88\u001b[0m \u001b[39mif\u001b[39;00m i \u001b[39m==\u001b[39m j:\n\u001b[1;32m     89\u001b[0m     \u001b[39mcontinue\u001b[39;00m\n\u001b[0;32m---> 91\u001b[0m sync_events \u001b[39m=\u001b[39m event_sync(\n\u001b[1;32m     92\u001b[0m     ind_list_e1, ind_list_e2, taumax, double_taumax)\n\u001b[1;32m     94\u001b[0m \u001b[39m# Createria if number of synchron events is relevant\u001b[39;00m\n\u001b[1;32m     95\u001b[0m \u001b[39mif\u001b[39;00m sync_events \u001b[39m>\u001b[39m min_num_sync_events:\n\u001b[1;32m     96\u001b[0m     \u001b[39m# print(i,j, sync_event)\u001b[39;00m\n",
      "File \u001b[0;32m~/climnet/geoutils/geoutils/tsa/event_synchronization.py:116\u001b[0m, in \u001b[0;36mevent_sync\u001b[0;34m(ind_list_e1, ind_list_e2, taumax, double_taumax)\u001b[0m\n\u001b[1;32m    114\u001b[0m \u001b[39mfor\u001b[39;00m n, e2_ind \u001b[39min\u001b[39;00m \u001b[39menumerate\u001b[39m(ind_list_e2[\u001b[39m1\u001b[39m:\u001b[39m-\u001b[39m\u001b[39m1\u001b[39m], start\u001b[39m=\u001b[39m\u001b[39m1\u001b[39m):\n\u001b[1;32m    115\u001b[0m     d_12_now \u001b[39m=\u001b[39m (e1_ind\u001b[39m-\u001b[39me2_ind)\n\u001b[0;32m--> 116\u001b[0m     \u001b[39mif\u001b[39;00m d_12_now \u001b[39m>\u001b[39;49m taumax:\n\u001b[1;32m    117\u001b[0m         \u001b[39mcontinue\u001b[39;00m\n\u001b[1;32m    119\u001b[0m     d_22_past \u001b[39m=\u001b[39m e2_ind\u001b[39m-\u001b[39mind_list_e2[n\u001b[39m-\u001b[39m\u001b[39m1\u001b[39m]\n",
      "\u001b[0;31mKeyboardInterrupt\u001b[0m: "
     ]
    }
   ],
   "source": [
    "networkfile = output_dir + f\"{output_folder}/{name_prefix}_ES_net.npz\"\n",
    "\n",
    "E_matrix_folder = (\n",
    "    f\"{output_folder}/{name_prefix}_{q_ee}_{min_evs}/\"\n",
    ")\n",
    "null_model_file = f'null_model_ts_{num_time_steps}_taumax_{taumax}_npmts_{n_pmts}_q_{q_ee}_directed.npy'\n",
    "\n",
    "q_sig = 0.95\n",
    "Net = nx.Clim_NetworkX(dataset=ds,\n",
    "                       taumax=taumax,\n",
    "                       weighted=weighted,)\n",
    "gut.myprint(f\"Use q = {q_sig}\")\n",
    "Net.create(\n",
    "    method='es',\n",
    "    null_model_file=null_model_file,\n",
    "    E_matrix_folder=E_matrix_folder,\n",
    "    q_sig=q_sig,\n",
    "    num_cpus=1,\n",
    ")\n"
   ]
  },
  {
   "cell_type": "code",
   "execution_count": null,
   "metadata": {},
   "outputs": [],
   "source": [
    "nx_path_file = output_dir + \\\n",
    "    f\"{output_folder}/{name_prefix}_{q_sig}_ES_nx.gml.gz\"\n",
    "Net.save(nx_path_file)"
   ]
  }
 ],
 "metadata": {
  "kernelspec": {
   "display_name": "climnet",
   "language": "python",
   "name": "python3"
  },
  "language_info": {
   "codemirror_mode": {
    "name": "ipython",
    "version": 3
   },
   "file_extension": ".py",
   "mimetype": "text/x-python",
   "name": "python",
   "nbconvert_exporter": "python",
   "pygments_lexer": "ipython3",
   "version": "3.9.15"
  },
  "orig_nbformat": 4
 },
 "nbformat": 4,
 "nbformat_minor": 2
}
